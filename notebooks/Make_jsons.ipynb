{
 "cells": [
  {
   "cell_type": "markdown",
   "id": "6d3045b6-2135-4989-82c0-57f9b69ed43d",
   "metadata": {},
   "source": [
    "# Read in data"
   ]
  },
  {
   "cell_type": "code",
   "execution_count": 1,
   "id": "7dbb6524-bd59-4f42-bda2-d9930dadcb15",
   "metadata": {
    "tags": []
   },
   "outputs": [],
   "source": [
    "import matplotlib.pyplot as plt\n",
    "import xarray as xr\n",
    "import pandas as pd\n",
    "import numpy as np\n",
    "\n",
    "import sys\n",
    "sys.path.append('/home/jovyan/normalizing-cdr-accounting/scripts')\n",
    "\n",
    "from process_raw_hector_output import *"
   ]
  },
  {
   "cell_type": "code",
   "execution_count": 3,
   "id": "703a3816-a285-4c84-a5cd-98c9199ef398",
   "metadata": {
    "tags": []
   },
   "outputs": [],
   "source": [
    "# Emissions driven simulations\n",
    "\n",
    "fpath = '/home/jovyan/normalizing-cdr-accounting/data/hector-output/'\n",
    "\n",
    "fname='idealized_removals_from_preindustrial/outputstream_DOR_LLremoval_10GtCO2_trackingOn.csv'\n",
    "ds_fromOcn_emisDriven=process_csv_to_xarray(fpath+fname, startyear=1750, filetype='C++')\n",
    "\n",
    "fname = 'idealized_removals_from_preindustrial/outputstream_DAC_10GtCO2_trackingOn.csv'\n",
    "ds_fromAtm_emisDriven=process_csv_to_xarray(fpath+fname, startyear=1750, filetype='C++')"
   ]
  },
  {
   "cell_type": "code",
   "execution_count": null,
   "id": "a75e7faa-2b4f-4749-953d-27fbd9d3deaf",
   "metadata": {
    "tags": []
   },
   "outputs": [],
   "source": [
    "# Concentration driven simulations\n",
    "fname = 'concentration_driven/outputstream_idealized_DOR_10GtCO2_removal_fixedCO2ppm.csv'\n",
    "ds_fromOcn_concDriven=process_csv_to_xarray(fpath+fname, startyear=1750, filetype='C++')#, skiprows=2)\n",
    "\n",
    "fname = 'concentration_driven/outputstream_idealized_DAC_10GtCO2_removal_fixedCO2ppm.csv'\n",
    "ds_fromAtm_concDriven=process_csv_to_xarray(fpath+fname, startyear=1750, filetype='C++')#, skiprows=2)"
   ]
  },
  {
   "cell_type": "markdown",
   "id": "3b1c0c52-f168-4aaf-a045-d1ef91bbeaf1",
   "metadata": {},
   "source": [
    "# Process data"
   ]
  },
  {
   "cell_type": "code",
   "execution_count": 4,
   "id": "51b11f40-98a5-4f25-a0d9-d9af3768eed7",
   "metadata": {
    "tags": []
   },
   "outputs": [],
   "source": [
    "unitconv=44.01/12.011\n",
    "\n",
    "# Make new datasets that drop spinup\n",
    "\n",
    "# For DOR, need to start time series one year later because\n",
    "# DOR is implemented at the end of the time step, while DAC is implemented at \n",
    "# the beginning of the time step\n",
    "\n",
    "ds_fromOcn_emisDriven_postspinup=ds_fromOcn_emisDriven.where(ds_fromOcn_emisDriven.year>2049, drop=True)\n",
    "ds_fromAtm_emisDriven_postspinup=ds_fromAtm_emisDriven.where(ds_fromAtm_emisDriven.year>2048, drop=True).where(ds_fromAtm_emisDriven.year<3750, drop=True)\n",
    "ds_fromOcn_concDriven_postspinup=ds_fromOcn_concDriven.where(ds_fromOcn_concDriven.year>2049, drop=True)\n",
    "ds_fromAtm_concDriven_postspinup=ds_fromAtm_concDriven.where(ds_fromAtm_concDriven.year>2048, drop=True).where(ds_fromAtm_emisDriven.year<3750, drop=True)"
   ]
  },
  {
   "cell_type": "code",
   "execution_count": 5,
   "id": "0a3ebd94-0a53-4b74-a41c-60dd4b96dd0f",
   "metadata": {
    "tags": []
   },
   "outputs": [],
   "source": [
    "ds_list = [ds_fromOcn_emisDriven_postspinup,\n",
    "          ds_fromAtm_emisDriven_postspinup, \n",
    "          ds_fromOcn_concDriven_postspinup,\n",
    "          ds_fromAtm_concDriven_postspinup]"
   ]
  },
  {
   "cell_type": "code",
   "execution_count": 6,
   "id": "5c19474d-6bda-42d2-8603-52e04069a96c",
   "metadata": {
    "tags": []
   },
   "outputs": [],
   "source": [
    "for ds in ds_list:\n",
    "    ds['delta_atmos_co2']=(ds['atmos_co2']-ds['atmos_co2'][0].values)*unitconv\n",
    "    ds['delta_ocean_co2']=(ds['ocean_c']-ds['ocean_c'][0].values)*unitconv\n",
    "    ds['fast_c']=(ds['LL_ocean_c']+\n",
    "                    ds['HL_ocean_c']+\n",
    "                    ds['IO_ocean_c']+\n",
    "                    ds['veg_c']+\n",
    "                    ds['detritus_c']+\n",
    "                    ds['soil_c']+\n",
    "                    ds['atmos_co2']\n",
    "                 )\n",
    "    ds['slow_c']=(ds['DO_ocean_c']+\n",
    "                  ds['earth_c'])\n",
    "    ds['delta_fast_co2']=(ds['fast_c']-ds['fast_c'][0].values)*unitconv\n",
    "    ds['delta_slow_co2']=(ds['slow_c']-ds['slow_c'][0].values)*unitconv"
   ]
  },
  {
   "cell_type": "code",
   "execution_count": 7,
   "id": "10ebd36c-d552-4fb3-b03d-b4fe2859e713",
   "metadata": {
    "tags": []
   },
   "outputs": [],
   "source": [
    "ds_fromAtm_concDriven_postspinup['delta_atmos_co2_implied']=ds_fromAtm_concDriven_postspinup['delta_atmos_co2']*0\n",
    "ds_fromAtm_concDriven_postspinup['delta_atmos_co2_implied'][2:]=-10\n",
    "\n",
    "ds_fromOcn_concDriven_postspinup['delta_atmos_co2_implied']=-ds_fromOcn_concDriven_postspinup['delta_ocean_co2']+ds_fromOcn_concDriven_postspinup['delta_ocean_co2'][1]\n",
    "ds_fromOcn_concDriven_postspinup['delta_atmos_co2_implied'][0]=0"
   ]
  },
  {
   "cell_type": "code",
   "execution_count": 8,
   "id": "b5317536-c2eb-46ba-9874-eb394565572d",
   "metadata": {
    "tags": []
   },
   "outputs": [],
   "source": [
    "ds_fromAtm_concDriven_postspinup['delta_fast_co2_implied']=ds_fromAtm_concDriven_postspinup['delta_atmos_co2']*0\n",
    "ds_fromAtm_concDriven_postspinup['delta_fast_co2_implied'][2:]=-10\n",
    "\n",
    "ds_fromOcn_concDriven_postspinup['delta_fast_co2_implied']=-ds_fromOcn_concDriven_postspinup.delta_slow_co2"
   ]
  },
  {
   "cell_type": "markdown",
   "id": "5fea831e-cd54-4660-b21e-6289f73fd94d",
   "metadata": {
    "tags": []
   },
   "source": [
    "# Make json with processed data"
   ]
  },
  {
   "cell_type": "code",
   "execution_count": 9,
   "id": "160cdd57-5ef3-471f-b88f-159c7263a93a",
   "metadata": {
    "tags": []
   },
   "outputs": [],
   "source": [
    "datasets = [ds_fromOcn_emisDriven_postspinup,ds_fromOcn_emisDriven_postspinup,\n",
    "            ds_fromOcn_concDriven_postspinup, ds_fromOcn_concDriven_postspinup,\n",
    "            ds_fromAtm_emisDriven_postspinup,ds_fromAtm_emisDriven_postspinup,\n",
    "            ds_fromAtm_concDriven_postspinup, ds_fromAtm_concDriven_postspinup]\n",
    "\n",
    "CDR_types=['DOR','DOR','DOR','DOR',\n",
    "          'DAC','DAC','DAC','DAC']\n",
    "carbon_cycle_feedbacks=['on','on','off','off',\n",
    "                        'on','on','off','off']\n",
    "ds_vars=['delta_atmos_co2','delta_fast_co2',\n",
    "         'delta_atmos_co2_implied','delta_fast_co2_implied',\n",
    "         'delta_atmos_co2','delta_fast_co2',\n",
    "         'delta_atmos_co2_implied','delta_fast_co2_implied']\n",
    "frames_of_reference=['atmos_co2','fast_c',\n",
    "         'atmos_co2','fast_c',\n",
    "         'atmos_co2','fast_c',\n",
    "         'atmos_co2','fast_c']\n",
    "y_axis_labels=['change_in_atmospheric_carbon','change_in_fast_carbon_pool',\n",
    "        'calculated_change_in_atmospheric_carbon','calculated_change_in_fast_carbon_pool',\n",
    "        'change_in_atmospheric_carbon','change_in_fast_carbon_pool',\n",
    "        'calculated_change_in_atmospheric_carbon','calculated_change_in_fast_carbon_pool']\n",
    "\n",
    "years_after_deployment=np.arange(-2,1702-3)\n",
    "df_list=[]\n",
    "for i, ds in enumerate(datasets):\n",
    "    var_to_use=ds_vars[i]\n",
    "    df=ds[var_to_use].to_dataframe(name='value')\n",
    "    df['CDR_type']=CDR_types[i]\n",
    "    df['carbon_cycle_feedback']=carbon_cycle_feedbacks[i]\n",
    "    df['y_axis_label']=y_axis_labels[i]\n",
    "    df['frame_of_reference']=frames_of_reference[i]\n",
    "    df['years_after_deployment']=years_after_deployment\n",
    "    df_list.append(df)\n",
    "    \n",
    "df_all=pd.concat(df_list)\n",
    "df_all=df_all.reset_index()"
   ]
  },
  {
   "cell_type": "code",
   "execution_count": 10,
   "id": "96d95b29-d96d-478d-b71b-7f0356e3e297",
   "metadata": {
    "tags": []
   },
   "outputs": [],
   "source": [
    "df_all_first100years=df_all[df_all.years_after_deployment<=100]"
   ]
  },
  {
   "cell_type": "code",
   "execution_count": 11,
   "id": "b464a711-08ef-45b0-9694-428aec865077",
   "metadata": {
    "tags": []
   },
   "outputs": [],
   "source": [
    "df_all_first100years.to_json('DOR_vs_DAC_all_timeseries.json', orient='table')"
   ]
  },
  {
   "cell_type": "markdown",
   "id": "dd43f14b-d21e-4f78-9021-28583bd12c83",
   "metadata": {},
   "source": [
    "# Example calculation of bar graph numbers"
   ]
  },
  {
   "cell_type": "code",
   "execution_count": 12,
   "id": "d27dda9a-c264-4864-b8b5-ad0493799773",
   "metadata": {
    "tags": []
   },
   "outputs": [],
   "source": [
    "#Parameters to select\n",
    "carbon_cycle_feedback='on'\n",
    "frame_of_reference='atmos_co2'\n",
    "time_horizon=10\n",
    "absolute_vs_relative='absolute_drawdown' #options: 'absolute_drawdown','normalize_to_DAC'\n",
    "\n",
    "# Get the right time series using \n",
    "tseries_to_use_DOR=df_all[(df_all.CDR_type=='DOR')&\n",
    "            (df_all.carbon_cycle_feedback==carbon_cycle_feedback)&\n",
    "            (df_all.frame_of_reference==frame_of_reference)]\n",
    "tseries_to_use_DAC=df_all[(df_all.CDR_type=='DAC')&\n",
    "            (df_all.carbon_cycle_feedback==carbon_cycle_feedback)&\n",
    "            (df_all.frame_of_reference==frame_of_reference)]\n",
    "\n",
    "# Get the DOR and DAC removals at that time series\n",
    "removal_DOR=tseries_to_use_DOR[tseries_to_use_DOR.years_after_deployment==time_horizon].value.item()\n",
    "removal_DAC=tseries_to_use_DAC[tseries_to_use_DAC.years_after_deployment==time_horizon].value.item()\n",
    "\n",
    "# Choose whether to display the relative or absolute removal\n",
    "if absolute_vs_relative=='normalize_to_DAC':\n",
    "    DOR_to_display=(removal_DOR)/(removal_DAC)\n",
    "elif absolute_vs_relative=='absolute_drawdown': # doing elif here because may add a third option?\n",
    "    DOR_to_display=-(removal_DOR)/10\n",
    "    \n",
    "# DAC is always 1\n",
    "DAC_to_display=1"
   ]
  }
 ],
 "metadata": {
  "kernelspec": {
   "display_name": "Python 3 (ipykernel)",
   "language": "python",
   "name": "python3"
  },
  "language_info": {
   "codemirror_mode": {
    "name": "ipython",
    "version": 3
   },
   "file_extension": ".py",
   "mimetype": "text/x-python",
   "name": "python",
   "nbconvert_exporter": "python",
   "pygments_lexer": "ipython3",
   "version": "3.10.11"
  }
 },
 "nbformat": 4,
 "nbformat_minor": 5
}
