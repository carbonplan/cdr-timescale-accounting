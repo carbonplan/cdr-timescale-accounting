{
 "cells": [
  {
   "cell_type": "markdown",
   "id": "6d3045b6-2135-4989-82c0-57f9b69ed43d",
   "metadata": {},
   "source": [
    "# Read in data"
   ]
  },
  {
   "cell_type": "code",
   "execution_count": 1,
   "id": "7dbb6524-bd59-4f42-bda2-d9930dadcb15",
   "metadata": {
    "tags": []
   },
   "outputs": [],
   "source": [
    "import matplotlib.pyplot as plt\n",
    "import xarray as xr\n",
    "import pandas as pd\n",
    "import numpy as np\n",
    "\n",
    "from utils.condense_hector_output import condense_output\n",
    "from utils.process_raw_hector_output import process_csv_to_xarray"
   ]
  },
  {
   "cell_type": "code",
   "execution_count": 2,
   "id": "703a3816-a285-4c84-a5cd-98c9199ef398",
   "metadata": {
    "tags": []
   },
   "outputs": [],
   "source": [
    "input_path = \"../data/postprocessed-hector/netcdfs/\"\n",
    "DAC_emissionsDriven = xr.open_dataset(input_path + \"DAC_emissionsDriven_postprocessed.nc\")\n",
    "DOR_emissionsDriven = xr.open_dataset(input_path + \"DOR_emissionsDriven_postprocessed.nc\")\n",
    "emissionsPulse_emissionsDriven = xr.open_dataset(input_path + \"emissionsPulse_emissionsDriven_postprocessed.nc\")\n",
    "\n",
    "DOR_concentrationDriven = xr.open_dataset(input_path + \"DOR_concentrationDriven_postprocessed.nc\")\n",
    "DOR_concentrationDriven_highWind = xr.open_dataset(\n",
    "    input_path + \"DOR_concentrationDriven_highWind_postprocessed.nc\"\n",
    ")\n",
    "DOR_concentrationDriven_lowWind = xr.open_dataset(\n",
    "    input_path + \"DOR_concentrationDriven_lowWind_postprocessed.nc\"\n",
    ")\n",
    "\n",
    "DAC_concentrationDriven = xr.open_dataset(input_path + \"DAC_concentrationDriven_synthetic_data.nc\")\n",
    "emission_concentrationDriven = xr.open_dataset(\n",
    "    input_path + \"emission_concentrationDriven_synthetic_data.nc\"\n",
    ")"
   ]
  },
  {
   "cell_type": "markdown",
   "id": "3b1c0c52-f168-4aaf-a045-d1ef91bbeaf1",
   "metadata": {},
   "source": [
    "# Convert data into json with flat structure"
   ]
  },
  {
   "cell_type": "code",
   "execution_count": 3,
   "id": "0a3ebd94-0a53-4b74-a41c-60dd4b96dd0f",
   "metadata": {
    "tags": []
   },
   "outputs": [],
   "source": [
    "datasets = [\n",
    "    DAC_emissionsDriven,\n",
    "    DOR_emissionsDriven,\n",
    "    emissionsPulse_emissionsDriven,\n",
    "    DAC_concentrationDriven,\n",
    "    DOR_concentrationDriven,\n",
    "    emission_concentrationDriven,\n",
    "    DOR_concentrationDriven_highWind,\n",
    "    DOR_concentrationDriven_lowWind,\n",
    "]\n",
    "\n",
    "perturbation_types = [\"DAC\", \"DOR\", \"emission\", \"DAC\", \"DOR\", \"emission\", \"DOR\", \"DOR\"]\n",
    "carbon_cycle_feedbacks = [\"on\", \"on\", \"on\", \"off\", \"off\", \"off\", \"off\", \"off\"]\n",
    "wind_speed = [\"default\", \"default\", \"default\", \"default\", \"default\", \"default\", \"high\", \"low\"]"
   ]
  },
  {
   "cell_type": "code",
   "execution_count": 4,
   "id": "49034be1-ff6d-4611-9532-38aec87658a5",
   "metadata": {
    "tags": []
   },
   "outputs": [],
   "source": [
    "df_list = []\n",
    "for i, ds in enumerate(datasets):\n",
    "    if carbon_cycle_feedbacks[i] == \"off\":\n",
    "        var_to_use = \"implied_delta_atmos_co2_GtCO2\"\n",
    "    elif carbon_cycle_feedbacks[i] == \"on\":\n",
    "        var_to_use = \"delta_atmos_co2_GtCO2\"\n",
    "\n",
    "    df = ds[var_to_use].to_dataframe(name=\"value\")\n",
    "\n",
    "    # Add labels\n",
    "    df[\"perturbation_type\"] = perturbation_types[i]\n",
    "    df[\"carbon_cycle_feedback\"] = carbon_cycle_feedbacks[i]\n",
    "    df[\"wind_speed\"] = wind_speed[i]\n",
    "    df[\"variable_label\"] = var_to_use\n",
    "    df[\"years_after_deployment\"] = ds[\"years_after_deployment\"]\n",
    "    df_list.append(df)\n",
    "\n",
    "df_all = pd.concat(df_list)\n",
    "df_all = df_all.reset_index()"
   ]
  },
  {
   "cell_type": "code",
   "execution_count": 5,
   "id": "b8dd21ad-d3c3-447f-8c4e-28169f842e94",
   "metadata": {
    "tags": []
   },
   "outputs": [],
   "source": [
    "df_all_coarsened_time = df_all[\n",
    "    ((df_all.years_after_deployment <= 100) | (df_all.years_after_deployment % 100 == 0))\n",
    "]\n",
    "df_all_coarsened_time = df_all_coarsened_time[df_all_coarsened_time.years_after_deployment > -10]"
   ]
  },
  {
   "cell_type": "code",
   "execution_count": 6,
   "id": "5fbe8c22-79a5-43ad-b597-befaed0fa5ce",
   "metadata": {
    "tags": []
   },
   "outputs": [],
   "source": [
    "df_output = df_all_coarsened_time"
   ]
  },
  {
   "cell_type": "markdown",
   "id": "1e34ced2-276f-407b-8074-ff6f367b3521",
   "metadata": {},
   "source": [
    "# Test flat dataset"
   ]
  },
  {
   "cell_type": "code",
   "execution_count": 7,
   "id": "26da29ee-0161-4fdf-bd65-f0fcc1d64850",
   "metadata": {
    "tags": []
   },
   "outputs": [],
   "source": [
    "# Parameters to select\n",
    "carbon_cycle_feedback = \"on\"\n",
    "time_horizon = 10\n",
    "\n",
    "# Get the right time series using\n",
    "tseries_to_use_DOR = df_output[\n",
    "    (df_output.perturbation_type == \"DOR\")\n",
    "    & (df_output.carbon_cycle_feedback == carbon_cycle_feedback)\n",
    "    & (df_output.wind_speed == \"default\")\n",
    "]\n",
    "tseries_to_use_DAC = df_output[\n",
    "    (df_output.perturbation_type == \"DAC\")\n",
    "    & (df_output.carbon_cycle_feedback == carbon_cycle_feedback)\n",
    "    & (df_output.wind_speed == \"default\")\n",
    "]\n",
    "\n",
    "tseries_to_use_emission = df_output[\n",
    "    (df_output.perturbation_type == \"emission\")\n",
    "    & (df_output.carbon_cycle_feedback == carbon_cycle_feedback)\n",
    "    & (df_output.wind_speed == \"default\")\n",
    "]"
   ]
  },
  {
   "cell_type": "code",
   "execution_count": 8,
   "id": "0d82eec9-be5d-4550-bad6-385d783c1268",
   "metadata": {
    "tags": []
   },
   "outputs": [
    {
     "data": {
      "text/plain": [
       "(-10.0, 100.0)"
      ]
     },
     "execution_count": 8,
     "metadata": {},
     "output_type": "execute_result"
    },
    {
     "data": {
      "image/png": "[encoded data removed]",
      "text/plain": [
       "<Figure size 640x480 with 1 Axes>"
      ]
     },
     "metadata": {},
     "output_type": "display_data"
    }
   ],
   "source": [
    "plt.plot(tseries_to_use_DOR.years_after_deployment, tseries_to_use_DOR.value)\n",
    "plt.plot(tseries_to_use_DAC.years_after_deployment, tseries_to_use_DAC.value)\n",
    "plt.plot(tseries_to_use_emission.years_after_deployment, tseries_to_use_emission.value)\n",
    "plt.xlim([-10, 100])"
   ]
  },
  {
   "cell_type": "markdown",
   "id": "27c5c34c-682d-4caa-95be-7bf9270e6f6d",
   "metadata": {},
   "source": [
    "# Save json"
   ]
  },
  {
   "cell_type": "code",
   "execution_count": 9,
   "id": "f603e8ea-d608-40c1-9bbc-518a87223ea3",
   "metadata": {
    "tags": []
   },
   "outputs": [],
   "source": [
    "json_directory = \"../data/postprocessed-hector/jsons_for_article/\"\n",
    "df_output.to_json(json_directory + \"DOR_vs_DAC_combined.json\", orient=\"table\")"
   ]
  },
  {
   "cell_type": "code",
   "execution_count": null,
   "id": "8d2d7c69-e3c6-4dbd-8c41-d83e0a93c429",
   "metadata": {},
   "outputs": [],
   "source": []
  }
 ],
 "metadata": {
  "kernelspec": {
   "display_name": "Python 3 (ipykernel)",
   "language": "python",
   "name": "python3"
  },
  "language_info": {
   "codemirror_mode": {
    "name": "ipython",
    "version": 3
   },
   "file_extension": ".py",
   "mimetype": "text/x-python",
   "name": "python",
   "nbconvert_exporter": "python",
   "pygments_lexer": "ipython3",
   "version": "3.10.11"
  }
 },
 "nbformat": 4,
 "nbformat_minor": 5
}
