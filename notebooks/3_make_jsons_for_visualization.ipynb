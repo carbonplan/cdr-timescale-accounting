{
 "cells": [
  {
   "cell_type": "markdown",
   "id": "6d3045b6-2135-4989-82c0-57f9b69ed43d",
   "metadata": {},
   "source": [
    "# Read in data"
   ]
  },
  {
   "cell_type": "code",
   "execution_count": 1,
   "id": "7dbb6524-bd59-4f42-bda2-d9930dadcb15",
   "metadata": {
    "tags": []
   },
   "outputs": [],
   "source": [
    "import matplotlib.pyplot as plt\n",
    "import xarray as xr\n",
    "import pandas as pd\n",
    "import numpy as np\n",
    "\n",
    "import sys\n",
    "\n",
    "sys.path.append(\"../scripts\")\n",
    "\n",
    "from process_raw_hector_output import *\n",
    "from condense_hector_output import *"
   ]
  },
  {
   "cell_type": "code",
   "execution_count": 2,
   "id": "703a3816-a285-4c84-a5cd-98c9199ef398",
   "metadata": {
    "tags": []
   },
   "outputs": [],
   "source": [
    "input_path = \"../data/postprocessed-hector/netcdfs/\"\n",
    "DAC_emissionsDriven = xr.open_dataset(input_path + \"DAC_emissionsDriven_postprocessed.nc\")\n",
    "DOR_emissionsDriven = xr.open_dataset(input_path + \"DOR_emissionsDriven_postprocessed.nc\")\n",
    "DOR_concentrationDriven = xr.open_dataset(input_path + \"DOR_concentrationDriven_postprocessed.nc\")\n",
    "DOR_concentrationDriven_highWind = xr.open_dataset(\n",
    "    input_path + \"DOR_concentrationDriven_highWind_postprocessed.nc\"\n",
    ")\n",
    "DOR_concentrationDriven_lowWind = xr.open_dataset(\n",
    "    input_path + \"DOR_concentrationDriven_lowWind_postprocessed.nc\"\n",
    ")\n",
    "\n",
    "DAC_concentrationDriven = xr.open_dataset(input_path + \"DAC_concentrationDriven_synthetic_data.nc\")\n",
    "emission_concentrationDriven = xr.open_dataset(\n",
    "    input_path + \"emission_concentrationDriven_synthetic_data.nc\"\n",
    ")"
   ]
  },
  {
   "cell_type": "markdown",
   "id": "3b1c0c52-f168-4aaf-a045-d1ef91bbeaf1",
   "metadata": {},
   "source": [
    "# Convert data into json with flat structure"
   ]
  },
  {
   "cell_type": "code",
   "execution_count": 3,
   "id": "0a3ebd94-0a53-4b74-a41c-60dd4b96dd0f",
   "metadata": {
    "tags": []
   },
   "outputs": [],
   "source": [
    "datasets = [\n",
    "    DAC_emissionsDriven,\n",
    "    DOR_emissionsDriven,\n",
    "    DAC_concentrationDriven,\n",
    "    DOR_concentrationDriven,\n",
    "    emission_concentrationDriven,\n",
    "    DOR_concentrationDriven_highWind,\n",
    "    DOR_concentrationDriven_lowWind,\n",
    "]\n",
    "\n",
    "perturbation_types = [\"DAC\", \"DOR\", \"DAC\", \"DOR\", \"emission\", \"DOR\", \"DOR\"]\n",
    "carbon_cycle_feedbacks = [\"on\", \"on\", \"off\", \"off\", \"off\", \"off\", \"off\"]\n",
    "wind_speed = [\"default\", \"default\", \"default\", \"default\", \"default\", \"high\", \"low\"]"
   ]
  },
  {
   "cell_type": "code",
   "execution_count": 4,
   "id": "49034be1-ff6d-4611-9532-38aec87658a5",
   "metadata": {
    "tags": []
   },
   "outputs": [],
   "source": [
    "df_list = []\n",
    "for i, ds in enumerate(datasets):\n",
    "    if carbon_cycle_feedbacks[i] == \"off\":\n",
    "        var_to_use = \"implied_delta_atmos_co2_GtCO2\"\n",
    "    elif carbon_cycle_feedbacks[i] == \"on\":\n",
    "        var_to_use = \"delta_atmos_co2_GtCO2\"\n",
    "\n",
    "    df = ds[var_to_use].to_dataframe(name=\"value\")\n",
    "\n",
    "    # Add labels\n",
    "    df[\"perturbation_type\"] = perturbation_types[i]\n",
    "    df[\"carbon_cycle_feedback\"] = carbon_cycle_feedbacks[i]\n",
    "    df[\"wind_speed\"] = wind_speed[i]\n",
    "    df[\"variable_label\"] = var_to_use\n",
    "    df[\"years_after_deployment\"] = ds[\"years_after_deployment\"]\n",
    "    df_list.append(df)\n",
    "\n",
    "df_all = pd.concat(df_list)\n",
    "df_all = df_all.reset_index()"
   ]
  },
  {
   "cell_type": "code",
   "execution_count": 5,
   "id": "b8dd21ad-d3c3-447f-8c4e-28169f842e94",
   "metadata": {
    "tags": []
   },
   "outputs": [],
   "source": [
    "df_all_coarsened_time = df_all[\n",
    "    ((df_all.years_after_deployment <= 100) | (df_all.years_after_deployment % 100 == 0))\n",
    "]\n",
    "df_all_coarsened_time = df_all_coarsened_time[df_all_coarsened_time.years_after_deployment > -10]"
   ]
  },
  {
   "cell_type": "code",
   "execution_count": 6,
   "id": "5fbe8c22-79a5-43ad-b597-befaed0fa5ce",
   "metadata": {
    "tags": []
   },
   "outputs": [],
   "source": [
    "df_output = df_all_coarsened_time"
   ]
  },
  {
   "cell_type": "markdown",
   "id": "1e34ced2-276f-407b-8074-ff6f367b3521",
   "metadata": {},
   "source": [
    "# Test flat dataset"
   ]
  },
  {
   "cell_type": "code",
   "execution_count": 7,
   "id": "26da29ee-0161-4fdf-bd65-f0fcc1d64850",
   "metadata": {
    "tags": []
   },
   "outputs": [],
   "source": [
    "# Parameters to select\n",
    "carbon_cycle_feedback = \"on\"\n",
    "time_horizon = 10\n",
    "\n",
    "# Get the right time series using\n",
    "tseries_to_use_DOR = df_output[\n",
    "    (df_output.perturbation_type == \"DOR\")\n",
    "    & (df_output.carbon_cycle_feedback == carbon_cycle_feedback)\n",
    "    & (df_output.wind_speed == \"default\")\n",
    "]\n",
    "tseries_to_use_DAC = df_output[\n",
    "    (df_output.perturbation_type == \"DAC\")\n",
    "    & (df_output.carbon_cycle_feedback == carbon_cycle_feedback)\n",
    "    & (df_output.wind_speed == \"default\")\n",
    "]"
   ]
  },
  {
   "cell_type": "code",
   "execution_count": 8,
   "id": "0d82eec9-be5d-4550-bad6-385d783c1268",
   "metadata": {
    "tags": []
   },
   "outputs": [
    {
     "data": {
      "text/plain": [
       "(-10.0, 100.0)"
      ]
     },
     "execution_count": 8,
     "metadata": {},
     "output_type": "execute_result"
    },
    {
     "data": {
      "image/png": "[encoded data removed]",
      "text/plain": [
       "<Figure size 640x480 with 1 Axes>"
      ]
     },
     "metadata": {},
     "output_type": "display_data"
    }
   ],
   "source": [
    "plt.plot(tseries_to_use_DOR.years_after_deployment, tseries_to_use_DOR.value)\n",
    "plt.plot(tseries_to_use_DAC.years_after_deployment, tseries_to_use_DAC.value)\n",
    "plt.xlim([-10, 100])"
   ]
  },
  {
   "cell_type": "markdown",
   "id": "27c5c34c-682d-4caa-95be-7bf9270e6f6d",
   "metadata": {},
   "source": [
    "# Save json"
   ]
  },
  {
   "cell_type": "code",
   "execution_count": 9,
   "id": "f603e8ea-d608-40c1-9bbc-518a87223ea3",
   "metadata": {
    "tags": []
   },
   "outputs": [],
   "source": [
    "json_directory = \"../data/postprocessed-hector/jsons_for_article/\"\n",
    "df_output.to_json(json_directory + \"DOR_vs_DAC_combined.json\", orient=\"table\")"
   ]
  },
  {
   "cell_type": "markdown",
   "id": "634641fe-4da6-4db2-b266-fce5710531ff",
   "metadata": {},
   "source": [
    "# Old json generation"
   ]
  },
  {
   "cell_type": "code",
   "execution_count": null,
   "id": "5c19474d-6bda-42d2-8603-52e04069a96c",
   "metadata": {
    "tags": []
   },
   "outputs": [],
   "source": [
    "for ds in ds_list:\n",
    "    ds[\"delta_atmos_co2\"] = (ds[\"atmos_co2\"] - ds[\"atmos_co2\"][0].values) * unitconv\n",
    "    ds[\"delta_ocean_co2\"] = (ds[\"ocean_c\"] - ds[\"ocean_c\"][0].values) * unitconv\n",
    "    ds[\"fast_c\"] = (\n",
    "        ds[\"LL_ocean_c\"]\n",
    "        + ds[\"HL_ocean_c\"]\n",
    "        + ds[\"IO_ocean_c\"]\n",
    "        + ds[\"veg_c\"]\n",
    "        + ds[\"detritus_c\"]\n",
    "        + ds[\"soil_c\"]\n",
    "        + ds[\"atmos_co2\"]\n",
    "    )\n",
    "    ds[\"slow_c\"] = ds[\"DO_ocean_c\"] + ds[\"earth_c\"]\n",
    "    ds[\"delta_fast_co2\"] = (ds[\"fast_c\"] - ds[\"fast_c\"][0].values) * unitconv\n",
    "    ds[\"delta_slow_co2\"] = (ds[\"slow_c\"] - ds[\"slow_c\"][0].values) * unitconv"
   ]
  },
  {
   "cell_type": "code",
   "execution_count": null,
   "id": "10ebd36c-d552-4fb3-b03d-b4fe2859e713",
   "metadata": {
    "tags": []
   },
   "outputs": [],
   "source": [
    "ds_fromAtm_concDriven_postspinup[\"delta_atmos_co2_implied\"] = (\n",
    "    ds_fromAtm_concDriven_postspinup[\"delta_atmos_co2\"] * 0\n",
    ")\n",
    "ds_fromAtm_concDriven_postspinup[\"delta_atmos_co2_implied\"][2:] = -10\n",
    "\n",
    "ds_fromOcn_concDriven_postspinup[\"delta_atmos_co2_implied\"] = (\n",
    "    -ds_fromOcn_concDriven_postspinup[\"delta_ocean_co2\"]\n",
    "    + ds_fromOcn_concDriven_postspinup[\"delta_ocean_co2\"][1]\n",
    ")\n",
    "ds_fromOcn_concDriven_postspinup[\"delta_atmos_co2_implied\"][0] = 0"
   ]
  },
  {
   "cell_type": "code",
   "execution_count": null,
   "id": "b5317536-c2eb-46ba-9874-eb394565572d",
   "metadata": {
    "tags": []
   },
   "outputs": [],
   "source": [
    "ds_fromAtm_concDriven_postspinup[\"delta_fast_co2_implied\"] = (\n",
    "    ds_fromAtm_concDriven_postspinup[\"delta_atmos_co2\"] * 0\n",
    ")\n",
    "ds_fromAtm_concDriven_postspinup[\"delta_fast_co2_implied\"][2:] = -10\n",
    "\n",
    "ds_fromOcn_concDriven_postspinup[\n",
    "    \"delta_fast_co2_implied\"\n",
    "] = -ds_fromOcn_concDriven_postspinup.delta_slow_co2"
   ]
  },
  {
   "cell_type": "markdown",
   "id": "5fea831e-cd54-4660-b21e-6289f73fd94d",
   "metadata": {
    "tags": []
   },
   "source": [
    "### Make json with processed data"
   ]
  },
  {
   "cell_type": "code",
   "execution_count": null,
   "id": "160cdd57-5ef3-471f-b88f-159c7263a93a",
   "metadata": {
    "tags": []
   },
   "outputs": [],
   "source": [
    "datasets = [\n",
    "    ds_fromOcn_emisDriven_postspinup,\n",
    "    ds_fromOcn_emisDriven_postspinup,\n",
    "    ds_fromOcn_concDriven_postspinup,\n",
    "    ds_fromOcn_concDriven_postspinup,\n",
    "    ds_fromAtm_emisDriven_postspinup,\n",
    "    ds_fromAtm_emisDriven_postspinup,\n",
    "    ds_fromAtm_concDriven_postspinup,\n",
    "    ds_fromAtm_concDriven_postspinup,\n",
    "]\n",
    "\n",
    "CDR_types = [\"DOR\", \"DOR\", \"DOR\", \"DOR\", \"DAC\", \"DAC\", \"DAC\", \"DAC\"]\n",
    "carbon_cycle_feedbacks = [\"on\", \"on\", \"off\", \"off\", \"on\", \"on\", \"off\", \"off\"]\n",
    "ds_vars = [\n",
    "    \"delta_atmos_co2\",\n",
    "    \"delta_fast_co2\",\n",
    "    \"delta_atmos_co2_implied\",\n",
    "    \"delta_fast_co2_implied\",\n",
    "    \"delta_atmos_co2\",\n",
    "    \"delta_fast_co2\",\n",
    "    \"delta_atmos_co2_implied\",\n",
    "    \"delta_fast_co2_implied\",\n",
    "]\n",
    "frames_of_reference = [\n",
    "    \"atmos_co2\",\n",
    "    \"fast_c\",\n",
    "    \"atmos_co2\",\n",
    "    \"fast_c\",\n",
    "    \"atmos_co2\",\n",
    "    \"fast_c\",\n",
    "    \"atmos_co2\",\n",
    "    \"fast_c\",\n",
    "]\n",
    "y_axis_labels = [\n",
    "    \"change_in_atmospheric_carbon\",\n",
    "    \"change_in_fast_carbon_pool\",\n",
    "    \"calculated_change_in_atmospheric_carbon\",\n",
    "    \"calculated_change_in_fast_carbon_pool\",\n",
    "    \"change_in_atmospheric_carbon\",\n",
    "    \"change_in_fast_carbon_pool\",\n",
    "    \"calculated_change_in_atmospheric_carbon\",\n",
    "    \"calculated_change_in_fast_carbon_pool\",\n",
    "]\n",
    "\n",
    "years_after_deployment = np.arange(-2, 1702 - 3)\n",
    "df_list = []\n",
    "for i, ds in enumerate(datasets):\n",
    "    var_to_use = ds_vars[i]\n",
    "    df = ds[var_to_use].to_dataframe(name=\"value\")\n",
    "    df[\"CDR_type\"] = CDR_types[i]\n",
    "    df[\"carbon_cycle_feedback\"] = carbon_cycle_feedbacks[i]\n",
    "    df[\"y_axis_label\"] = y_axis_labels[i]\n",
    "    df[\"frame_of_reference\"] = frames_of_reference[i]\n",
    "    df[\"years_after_deployment\"] = years_after_deployment\n",
    "    df_list.append(df)\n",
    "\n",
    "df_all = pd.concat(df_list)\n",
    "df_all = df_all.reset_index()"
   ]
  },
  {
   "cell_type": "code",
   "execution_count": null,
   "id": "96d95b29-d96d-478d-b71b-7f0356e3e297",
   "metadata": {
    "tags": []
   },
   "outputs": [],
   "source": [
    "df_all_first100years = df_all[df_all.years_after_deployment <= 100]"
   ]
  },
  {
   "cell_type": "code",
   "execution_count": null,
   "id": "b464a711-08ef-45b0-9694-428aec865077",
   "metadata": {
    "tags": []
   },
   "outputs": [],
   "source": [
    "df_all_first100years.to_json(\"DOR_vs_DAC_all_timeseries.json\", orient=\"table\")"
   ]
  },
  {
   "cell_type": "markdown",
   "id": "dd43f14b-d21e-4f78-9021-28583bd12c83",
   "metadata": {},
   "source": [
    "### Example calculation of bar graph numbers"
   ]
  },
  {
   "cell_type": "code",
   "execution_count": null,
   "id": "d27dda9a-c264-4864-b8b5-ad0493799773",
   "metadata": {
    "tags": []
   },
   "outputs": [],
   "source": [
    "# Parameters to select\n",
    "carbon_cycle_feedback = \"on\"\n",
    "frame_of_reference = \"atmos_co2\"\n",
    "time_horizon = 10\n",
    "absolute_vs_relative = \"absolute_drawdown\"  # options: 'absolute_drawdown','normalize_to_DAC'\n",
    "\n",
    "# Get the right time series using\n",
    "tseries_to_use_DOR = df_all[\n",
    "    (df_all.CDR_type == \"DOR\")\n",
    "    & (df_all.carbon_cycle_feedback == carbon_cycle_feedback)\n",
    "    & (df_all.frame_of_reference == frame_of_reference)\n",
    "]\n",
    "tseries_to_use_DAC = df_all[\n",
    "    (df_all.CDR_type == \"DAC\")\n",
    "    & (df_all.carbon_cycle_feedback == carbon_cycle_feedback)\n",
    "    & (df_all.frame_of_reference == frame_of_reference)\n",
    "]\n",
    "\n",
    "# Get the DOR and DAC removals at that time series\n",
    "removal_DOR = tseries_to_use_DOR[\n",
    "    tseries_to_use_DOR.years_after_deployment == time_horizon\n",
    "].value.item()\n",
    "removal_DAC = tseries_to_use_DAC[\n",
    "    tseries_to_use_DAC.years_after_deployment == time_horizon\n",
    "].value.item()\n",
    "\n",
    "# Choose whether to display the relative or absolute removal\n",
    "if absolute_vs_relative == \"normalize_to_DAC\":\n",
    "    DOR_to_display = (removal_DOR) / (removal_DAC)\n",
    "elif absolute_vs_relative == \"absolute_drawdown\":  # doing elif here because may add a third option?\n",
    "    DOR_to_display = -(removal_DOR) / 10\n",
    "\n",
    "# DAC is always 1\n",
    "DAC_to_display = 1"
   ]
  }
 ],
 "metadata": {
  "kernelspec": {
   "display_name": "Python 3 (ipykernel)",
   "language": "python",
   "name": "python3"
  },
  "language_info": {
   "codemirror_mode": {
    "name": "ipython",
    "version": 3
   },
   "file_extension": ".py",
   "mimetype": "text/x-python",
   "name": "python",
   "nbconvert_exporter": "python",
   "pygments_lexer": "ipython3",
   "version": "3.10.11"
  }
 },
 "nbformat": 4,
 "nbformat_minor": 5
}
