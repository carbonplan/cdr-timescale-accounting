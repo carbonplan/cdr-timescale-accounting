{
 "cells": [
  {
   "cell_type": "markdown",
   "id": "de52099c-c719-4feb-8005-515f1aae289f",
   "metadata": {},
   "source": [
    "# Set up workspace\n",
    "\n",
    "Before running these hector scripts do the following:\n",
    "\n",
    "```\n",
    ">> git clone https://github.com/czarakas/hector.git\n",
    ">> git checkout remotes/origin/experimental_ocean_cdr\n",
    "```"
   ]
  },
  {
   "cell_type": "code",
   "execution_count": null,
   "id": "456dfb67-ab05-4952-ac42-47ea04dfbec7",
   "metadata": {
    "tags": []
   },
   "outputs": [],
   "source": [
    "import os\n",
    "import sys"
   ]
  },
  {
   "cell_type": "markdown",
   "id": "5244cdc8-b6c2-43de-9e8a-7ee530f34ef4",
   "metadata": {},
   "source": [
    "# Define paths to input data"
   ]
  },
  {
   "cell_type": "code",
   "execution_count": null,
   "id": "73e78f5d-495c-4150-a15e-4b2e46750229",
   "metadata": {
    "tags": []
   },
   "outputs": [],
   "source": [
    "# Directories\n",
    "base_dir = sys.path[0]\n",
    "runscript_dir = \"../scripts/\"\n",
    "input_data_path = \"../data/hector-forcing\""
   ]
  },
  {
   "cell_type": "code",
   "execution_count": null,
   "id": "b51fa279-1ebe-4883-a5d1-3b6dca51b74b",
   "metadata": {
    "tags": []
   },
   "outputs": [],
   "source": [
    "# Path to Hector source code\n",
    "hector_path = \"/Users/cmzarakas/Documents/CarbonPlan/supporting_code/hector\""
   ]
  },
  {
   "cell_type": "code",
   "execution_count": null,
   "id": "cb7ecd18-cde0-4874-bd4a-5aec5a8673a9",
   "metadata": {
    "tags": []
   },
   "outputs": [],
   "source": [
    "input_DOR_concentrationDriven = input_data_path + \"/DOR_concentrationDriven/hector_forcing.ini\"\n",
    "input_DOR_concentrationDriven_lowWind = (\n",
    "    input_data_path + \"/DOR_concentrationDriven_lowWind/hector_forcing.ini\"\n",
    ")\n",
    "input_DOR_concentrationDriven_highWind = (\n",
    "    input_data_path + \"/DOR_concentrationDriven_highWind/hector_forcing.ini\"\n",
    ")\n",
    "input_DOR_emissionsDriven = input_data_path + \"/DOR_emissionsDriven/hector_forcing.ini\"\n",
    "input_DAC_emissionsDriven = input_data_path + \"/DAC_emissionsDriven/hector_forcing.ini\""
   ]
  },
  {
   "cell_type": "markdown",
   "id": "5e098f9e-1c52-4f80-bd3c-7dbfb15df163",
   "metadata": {},
   "source": [
    "# Run simulations\n",
    "\n",
    "It is necessary to manually make some hardcoded code changes between running simulations"
   ]
  },
  {
   "cell_type": "markdown",
   "id": "cfa44aa9-1d39-4bc0-958c-4f1ed4d215c1",
   "metadata": {},
   "source": [
    "### DAC simulation"
   ]
  },
  {
   "cell_type": "markdown",
   "id": "f32ba8d2-ffaf-47fd-bbd7-b7614d688baa",
   "metadata": {},
   "source": [
    "#### DAC_emissionsDriven\n",
    "Use default settings in experimental_ocean_cdr branch:\n",
    "* `ocean_cdr = False` (default)\n",
    "* `surfaceLL.mychemistry.U = 6.7` (default)"
   ]
  },
  {
   "cell_type": "code",
   "execution_count": null,
   "id": "3530f850-c664-4162-980c-66a7bd0bed9a",
   "metadata": {
    "tags": []
   },
   "outputs": [],
   "source": [
    "os.chdir(hector_path)\n",
    "os.system(\"git checkout experimental_ocean_cdr\")\n",
    "os.system(\"git branch\")\n",
    "os.chdir(base_dir)\n",
    "os.chdir(runscript_dir)"
   ]
  },
  {
   "cell_type": "code",
   "execution_count": null,
   "id": "710ca492-e6b3-4540-96f9-af87223f63f4",
   "metadata": {
    "tags": []
   },
   "outputs": [],
   "source": [
    "# run DAC_emissionsDriven\n",
    "os.system(\"bash \" + runscript_dir + \"run_hector_simulation.sh \" + input_DAC_emissionsDriven)"
   ]
  },
  {
   "cell_type": "markdown",
   "id": "dbd07420-1f4a-4b03-97a9-1ae5cacec80f",
   "metadata": {},
   "source": [
    "### DOR simulations"
   ]
  },
  {
   "cell_type": "markdown",
   "id": "128a9bd4-bae6-4949-9d6f-fcd2387c05de",
   "metadata": {
    "tags": []
   },
   "source": [
    "#### *DOR_emissionsDriven* and *DOR_concentrationDriven*\n",
    "Model hardcoded settings:\n",
    "* `ocean_cdr = True` (hardcoded change required)\n",
    "* `surfaceLL.mychemistry.U = 6.7` (default)"
   ]
  },
  {
   "cell_type": "code",
   "execution_count": null,
   "id": "83d30c26-a861-46ca-affc-62a998289f98",
   "metadata": {
    "tags": []
   },
   "outputs": [],
   "source": [
    "os.chdir(hector_path)\n",
    "os.system(\"git checkout experimental_ocean_cdr_on\")\n",
    "os.system(\"git branch\")\n",
    "os.chdir(base_dir)\n",
    "os.chdir(runscript_dir)"
   ]
  },
  {
   "cell_type": "code",
   "execution_count": null,
   "id": "15e0b480-a929-4623-b8d1-eb0223bec27b",
   "metadata": {
    "tags": []
   },
   "outputs": [],
   "source": [
    "# run DOR_emissionsDriven\n",
    "os.system(\"bash \" + runscript_dir + \"run_hector_simulation.sh \" + input_DOR_emissionsDriven)\n",
    "\n",
    "# run DOR_concentrationDriven\n",
    "os.system(\"bash \" + runscript_dir + \"run_hector_simulation.sh \" + input_DOR_concentrationDriven)"
   ]
  },
  {
   "cell_type": "markdown",
   "id": "7edee924-c858-4767-b02d-e85593ac3c6a",
   "metadata": {},
   "source": [
    "### Wind perturbation DOR sensitivity simulations"
   ]
  },
  {
   "cell_type": "markdown",
   "id": "6b8ea25b-4e76-43ce-955c-f076cd530956",
   "metadata": {
    "tags": []
   },
   "source": [
    "#### DOR_concentrationDriven_highWind\n",
    "Model hardcoded settings:\n",
    "* `ocean_cdr = True` (hardcoded change required)\n",
    "* `surfaceLL.mychemistry.U = 11` (hardcoded change required)"
   ]
  },
  {
   "cell_type": "code",
   "execution_count": null,
   "id": "f825be48-5c23-4c4b-81e6-af32af2b7c82",
   "metadata": {},
   "outputs": [],
   "source": [
    "# run DOR_concentrationDriven_highWind\n",
    "os.system(\n",
    "    \"bash \" + runscript_dir + \"run_hector_simulation.sh \" + input_DOR_concentrationDriven_highWind\n",
    ")"
   ]
  },
  {
   "cell_type": "markdown",
   "id": "a83d0c5b-8447-4f2b-8069-5b5006bcfcd1",
   "metadata": {
    "tags": []
   },
   "source": [
    "#### DOR_concentrationDriven_lowWind\n",
    "Model hardcoded settings:\n",
    "* `ocean_cdr = True` (hardcoded change required)\n",
    "* `surfaceLL.mychemistry.U = 3` (hardcoded change required)"
   ]
  },
  {
   "cell_type": "code",
   "execution_count": null,
   "id": "6310ec3a-49ed-4ebc-a1cc-6cd34b6aca5b",
   "metadata": {},
   "outputs": [],
   "source": [
    "# run DOR_concentrationDriven_lowWind\n",
    "os.system(\n",
    "    \"bash \" + runscript_dir + \"run_hector_simulation.sh \" + input_DOR_concentrationDriven_lowWind\n",
    ")"
   ]
  }
 ],
 "metadata": {
  "kernelspec": {
   "display_name": "Python 3 (ipykernel)",
   "language": "python",
   "name": "python3"
  },
  "language_info": {
   "codemirror_mode": {
    "name": "ipython",
    "version": 3
   },
   "file_extension": ".py",
   "mimetype": "text/x-python",
   "name": "python",
   "nbconvert_exporter": "python",
   "pygments_lexer": "ipython3",
   "version": "3.11.3"
  }
 },
 "nbformat": 4,
 "nbformat_minor": 5
}
