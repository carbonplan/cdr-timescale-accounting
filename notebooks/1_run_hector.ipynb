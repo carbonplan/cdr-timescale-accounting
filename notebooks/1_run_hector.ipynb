{
 "cells": [
  {
   "cell_type": "markdown",
   "id": "de52099c-c719-4feb-8005-515f1aae289f",
   "metadata": {},
   "source": [
    "# Set up workspace\n",
    "\n",
    "Before running these hector scripts do the following:\n",
    "\n",
    "```\n",
    ">> git clone https://github.com/czarakas/hector.git\n",
    ">> git checkout remotes/origin/experimental_ocean_cdr\n",
    "```"
   ]
  },
  {
   "cell_type": "code",
   "execution_count": 1,
   "id": "456dfb67-ab05-4952-ac42-47ea04dfbec7",
   "metadata": {
    "tags": []
   },
   "outputs": [],
   "source": [
    "import os"
   ]
  },
  {
   "cell_type": "markdown",
   "id": "5244cdc8-b6c2-43de-9e8a-7ee530f34ef4",
   "metadata": {},
   "source": [
    "# Define paths to input data"
   ]
  },
  {
   "cell_type": "code",
   "execution_count": 2,
   "id": "3854a4e0-a24d-4990-b178-923011befcff",
   "metadata": {
    "tags": []
   },
   "outputs": [],
   "source": [
    "input_data_path='/home/jovyan/normalizing-cdr-accounting/data/hector-forcing'\n",
    "input_DOR_concentrationDriven = input_data_path+'/DOR_concentrationDriven/hector_forcing.ini'\n",
    "input_DOR_concentrationDriven_lowWind = input_data_path+'/DOR_concentrationDriven_lowWind/hector_forcing.ini'\n",
    "input_DOR_concentrationDriven_highWind = input_data_path+'/DOR_concentrationDriven_highWind/hector_forcing.ini'\n",
    "input_DOR_emissionsDriven = input_data_path+'/DOR_emissionsDriven/hector_forcing.ini'\n",
    "input_DAC_emissionsDriven = input_data_path+'/DAC_emissionsDriven/hector_forcing.ini'"
   ]
  },
  {
   "cell_type": "code",
   "execution_count": 4,
   "id": "b51fa279-1ebe-4883-a5d1-3b6dca51b74b",
   "metadata": {
    "tags": []
   },
   "outputs": [],
   "source": [
    "runscript_path=\"/home/jovyan/normalizing-cdr-accounting/scripts/run_hector_simulation.sh\""
   ]
  },
  {
   "cell_type": "markdown",
   "id": "5e098f9e-1c52-4f80-bd3c-7dbfb15df163",
   "metadata": {},
   "source": [
    "# Run simulations\n",
    "\n",
    "It is necessary to manually make some hardcoded code changes between running simulations"
   ]
  },
  {
   "cell_type": "markdown",
   "id": "f32ba8d2-ffaf-47fd-bbd7-b7614d688baa",
   "metadata": {},
   "source": [
    "Model hardcoded settings:\n",
    "* `ocean_cdr` = False (default)\n",
    "* `surfaceLL.mychemistry.U` = 6.7 (default)"
   ]
  },
  {
   "cell_type": "code",
   "execution_count": 5,
   "id": "710ca492-e6b3-4540-96f9-af87223f63f4",
   "metadata": {
    "tags": []
   },
   "outputs": [
    {
     "name": "stderr",
     "output_type": "stream",
     "text": [
      "/home/jovyan/normalizing-cdr-accounting/scripts/run_hector_simulation.sh: line 45: make: command not found\n",
      "/home/jovyan/normalizing-cdr-accounting/scripts/run_hector_simulation.sh: line 51: ./src/hector: No such file or directory\n",
      "cp: cannot stat '/home/jovyan/hector/output/tracking_DAC_emissionsDriven.csv': No such file or directory\n",
      "cp: cannot stat '/home/jovyan/hector/output/outputstream_DAC_emissionsDriven.csv': No such file or directory\n"
     ]
    },
    {
     "data": {
      "text/plain": [
       "0"
      ]
     },
     "execution_count": 5,
     "metadata": {},
     "output_type": "execute_result"
    }
   ],
   "source": [
    "# run DAC_emissionsDriven\n",
    "os.system(\"bash \"+runscript_path+\" \"+input_DAC_emissionsDriven)"
   ]
  },
  {
   "cell_type": "markdown",
   "id": "128a9bd4-bae6-4949-9d6f-fcd2387c05de",
   "metadata": {
    "tags": []
   },
   "source": [
    "Model hardcoded settings:\n",
    "* `ocean_cdr` = True (hardcoded change required)\n",
    "* `surfaceLL.mychemistry.U` = 6.7 (default)"
   ]
  },
  {
   "cell_type": "code",
   "execution_count": 3,
   "id": "15e0b480-a929-4623-b8d1-eb0223bec27b",
   "metadata": {
    "tags": []
   },
   "outputs": [
    {
     "name": "stdout",
     "output_type": "stream",
     "text": [
      "test\n"
     ]
    }
   ],
   "source": [
    "# run DOR_emissionsDriven\n",
    "os.system(\"bash \"+runscript_path+\" \"+input_DOR_emissionsDriven)\n",
    "\n",
    "# run DOR_concentrationDriven\n",
    "os.system(\"bash \"+runscript_path+\" \"+input_DOR_concentrationDriven)"
   ]
  },
  {
   "cell_type": "markdown",
   "id": "6b8ea25b-4e76-43ce-955c-f076cd530956",
   "metadata": {
    "tags": []
   },
   "source": [
    "Model hardcoded settings:\n",
    "* `ocean_cdr` = True (hardcoded change required)\n",
    "* `surfaceLL.mychemistry.U` = 11 (hardcoded change required)"
   ]
  },
  {
   "cell_type": "code",
   "execution_count": null,
   "id": "f825be48-5c23-4c4b-81e6-af32af2b7c82",
   "metadata": {},
   "outputs": [],
   "source": [
    "# run DOR_concentrationDriven_highWind\n",
    "os.system(\"bash \"+runscript_path+\" \"+input_DOR_concentrationDriven_highWind)"
   ]
  },
  {
   "cell_type": "markdown",
   "id": "a83d0c5b-8447-4f2b-8069-5b5006bcfcd1",
   "metadata": {
    "tags": []
   },
   "source": [
    "Model hardcoded settings:\n",
    "* `ocean_cdr` = True (hardcoded change required)\n",
    "* `surfaceLL.mychemistry.U` = 3 (hardcoded change required)"
   ]
  },
  {
   "cell_type": "code",
   "execution_count": null,
   "id": "6310ec3a-49ed-4ebc-a1cc-6cd34b6aca5b",
   "metadata": {},
   "outputs": [],
   "source": [
    "# run DOR_concentrationDriven_lowWind\n",
    "os.system(\"bash \"+runscript_path+\" \"+input_DOR_concentrationDriven_lowWind)"
   ]
  }
 ],
 "metadata": {
  "kernelspec": {
   "display_name": "Python 3 (ipykernel)",
   "language": "python",
   "name": "python3"
  },
  "language_info": {
   "codemirror_mode": {
    "name": "ipython",
    "version": 3
   },
   "file_extension": ".py",
   "mimetype": "text/x-python",
   "name": "python",
   "nbconvert_exporter": "python",
   "pygments_lexer": "ipython3",
   "version": "3.10.11"
  }
 },
 "nbformat": 4,
 "nbformat_minor": 5
}
