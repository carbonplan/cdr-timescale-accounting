{
 "cells": [
  {
   "cell_type": "markdown",
   "id": "bc80228b-f649-41fd-b6e6-7347e3156427",
   "metadata": {},
   "source": [
    "# Set up workspace"
   ]
  },
  {
   "cell_type": "code",
   "execution_count": 1,
   "id": "aa3c8b71-dee9-4f53-bf94-81b953fd7550",
   "metadata": {
    "tags": []
   },
   "outputs": [],
   "source": [
    "import matplotlib.pyplot as plt\n",
    "import xarray as xr\n",
    "import pandas as pd\n",
    "import numpy as np\n",
    "\n",
    "import sys\n",
    "sys.path.append('/home/jovyan/normalizing-cdr-accounting/scripts')\n",
    "\n",
    "from process_raw_hector_output import *\n",
    "from condense_hector_output import *"
   ]
  },
  {
   "cell_type": "markdown",
   "id": "f5ab5bd5-5c5c-4b93-bc0a-470551b4b145",
   "metadata": {},
   "source": [
    "# Load model output"
   ]
  },
  {
   "cell_type": "code",
   "execution_count": 2,
   "id": "e22a8a8a-e480-4ead-bdd2-e101828c84fd",
   "metadata": {
    "tags": []
   },
   "outputs": [],
   "source": [
    "fpath = '//home/jovyan/normalizing-cdr-accounting/data/hector-output/'\n",
    "fname = 'output_DAC_emissionsDriven/outputstream_DAC_emissionsDriven.csv'\n",
    "DAC_emissionsDriven=process_csv_to_xarray(fpath+fname, startyear=1750, filetype='C++')\n",
    "\n",
    "fname = 'output_DOR_emissionsDriven/outputstream_DOR_emissionsDriven.csv'\n",
    "DOR_emissionsDriven=process_csv_to_xarray(fpath+fname, startyear=1750, filetype='C++')\n",
    "\n",
    "fname = 'output_DOR_concentrationDriven/outputstream_DOR_concentrationDriven.csv'\n",
    "DOR_concentrationDriven=process_csv_to_xarray(fpath+fname, startyear=1750, filetype='C++')\n",
    "\n",
    "fname = 'output_DOR_concentrationDriven_highWind/outputstream_DOR_concentrationDriven_highWind.csv'\n",
    "DOR_concentrationDriven_highWind=process_csv_to_xarray(fpath+fname, startyear=1750, filetype='C++')\n",
    "\n",
    "fname = 'output_DOR_concentrationDriven_lowWind/outputstream_DOR_concentrationDriven_lowWind.csv'\n",
    "DOR_concentrationDriven_lowWind=process_csv_to_xarray(fpath+fname, startyear=1750, filetype='C++')"
   ]
  },
  {
   "cell_type": "markdown",
   "id": "322b59d3-eb65-4c54-a31c-50c70d5e0225",
   "metadata": {},
   "source": [
    "# Postprocess data"
   ]
  },
  {
   "cell_type": "code",
   "execution_count": 3,
   "id": "324a070d-872e-408d-8165-32f56dcab878",
   "metadata": {
    "tags": []
   },
   "outputs": [],
   "source": [
    "DAC_emissionsDriven_short = condense_output(df=DAC_emissionsDriven,\n",
    "                                            deployment_year=1745+2000)\n",
    "\n",
    "DOR_emissionsDriven_short = condense_output(df=DOR_emissionsDriven,\n",
    "                                            deployment_year=1745+2000+1)\n",
    "\n",
    "DOR_concentrationDriven_short = condense_output(df=DOR_concentrationDriven,\n",
    "                                                deployment_year=1745+2000+1,\n",
    "                                                concentration_driven=True)\n",
    "\n",
    "DOR_concentrationDriven_highWind_short = condense_output(df=DOR_concentrationDriven_highWind,\n",
    "                                                deployment_year=1745+2000+1,\n",
    "                                                concentration_driven=True)\n",
    "\n",
    "DOR_concentrationDriven_lowWind_short = condense_output(df=DOR_concentrationDriven_lowWind,\n",
    "                                                deployment_year=1745+2000+1,\n",
    "                                                concentration_driven=True)"
   ]
  },
  {
   "cell_type": "code",
   "execution_count": 4,
   "id": "9891c0e0-f690-4fb8-8a92-9256790ebf1a",
   "metadata": {
    "tags": []
   },
   "outputs": [],
   "source": [
    "# Adjust for time step discrepancy between DOR and DAC\n",
    "last_year=DOR_emissionsDriven_short.years_after_deployment[-1]\n",
    "DAC_emissionsDriven_short=DAC_emissionsDriven_short.where(DAC_emissionsDriven_short.years_after_deployment<=last_year,drop=True)"
   ]
  },
  {
   "cell_type": "markdown",
   "id": "4f480ddc-48a1-46cd-989c-ba02099eece9",
   "metadata": {},
   "source": [
    "### Make synthetic data for concentration-driven DAC and emission\n",
    "(not necessary to simulate)"
   ]
  },
  {
   "cell_type": "code",
   "execution_count": 5,
   "id": "42876e08-ebe2-459a-aff0-962b4b31a321",
   "metadata": {
    "tags": []
   },
   "outputs": [],
   "source": [
    "# Make empty data array for DAC impact on CO2\n",
    "DAC_concentrationDriven_empty = xr.DataArray(\n",
    "    data=np.zeros(np.shape(DAC_emissionsDriven_short.delta_atmos_co2_GtCO2)),\n",
    "    dims=[\"year\"],\n",
    "    coords=dict(\n",
    "        year=DAC_emissionsDriven_short.year)\n",
    ")\n",
    "DAC_concentrationDriven=DAC_concentrationDriven_empty.to_dataset(name='implied_delta_atmos_co2_GtCO2')\n",
    "\n",
    "DAC_concentrationDriven['years_after_deployment']=DAC_emissionsDriven_short.years_after_deployment\n",
    "DAC_concentrationDriven['implied_delta_atmos_co2_GtCO2']=(DAC_concentrationDriven['implied_delta_atmos_co2_GtCO2'].where(DAC_emissionsDriven_short.years_after_deployment<=0,-1))"
   ]
  },
  {
   "cell_type": "code",
   "execution_count": 6,
   "id": "9d4a8a8b-e6d4-4267-9644-fd24000b2590",
   "metadata": {
    "tags": []
   },
   "outputs": [],
   "source": [
    "# Make empty data array for emission impact on CO2\n",
    "\n",
    "da_emission_concentrationDriven = xr.DataArray(\n",
    "    data=-DAC_concentrationDriven['implied_delta_atmos_co2_GtCO2'],\n",
    "    dims=[\"year\"],\n",
    "    coords=dict(\n",
    "        year=DAC_concentrationDriven.year)\n",
    ")\n",
    "emission_concentrationDriven=da_emission_concentrationDriven.to_dataset(name='implied_delta_atmos_co2_GtCO2')\n",
    "emission_concentrationDriven['years_after_deployment']=DAC_concentrationDriven['years_after_deployment']"
   ]
  },
  {
   "cell_type": "markdown",
   "id": "eb06605f-929d-4ac8-a08a-f925a082f70e",
   "metadata": {},
   "source": [
    "# Save postprocessed data"
   ]
  },
  {
   "cell_type": "code",
   "execution_count": 7,
   "id": "3b476914-a3d3-4a3f-b6e3-c8dc7638d020",
   "metadata": {
    "tags": []
   },
   "outputs": [],
   "source": [
    "output_path='/home/jovyan/normalizing-cdr-accounting/data/postprocessed-hector/netcdfs/'\n",
    "DAC_emissionsDriven_short.to_netcdf(output_path+'DAC_emissionsDriven_postprocessed.nc')\n",
    "DOR_emissionsDriven_short.to_netcdf(output_path+'DOR_emissionsDriven_postprocessed.nc')\n",
    "DOR_concentrationDriven_short.to_netcdf(output_path+'DOR_concentrationDriven_postprocessed.nc')\n",
    "DOR_concentrationDriven_highWind_short.to_netcdf(output_path+'DOR_concentrationDriven_highWind_postprocessed.nc')\n",
    "DOR_concentrationDriven_lowWind_short.to_netcdf(output_path+'DOR_concentrationDriven_lowWind_postprocessed.nc')"
   ]
  },
  {
   "cell_type": "code",
   "execution_count": 8,
   "id": "6733e70a-c2ea-47f5-916a-42b8d3e8c33f",
   "metadata": {
    "tags": []
   },
   "outputs": [],
   "source": [
    "emission_concentrationDriven.to_netcdf(output_path+'emission_concentrationDriven_synthetic_data.nc')\n",
    "DAC_concentrationDriven.to_netcdf(output_path+'DAC_concentrationDriven_synthetic_data.nc')"
   ]
  },
  {
   "cell_type": "code",
   "execution_count": null,
   "id": "86bf2177-3e79-45b5-a944-48bed3c2f2b0",
   "metadata": {},
   "outputs": [],
   "source": []
  }
 ],
 "metadata": {
  "kernelspec": {
   "display_name": "Python 3 (ipykernel)",
   "language": "python",
   "name": "python3"
  },
  "language_info": {
   "codemirror_mode": {
    "name": "ipython",
    "version": 3
   },
   "file_extension": ".py",
   "mimetype": "text/x-python",
   "name": "python",
   "nbconvert_exporter": "python",
   "pygments_lexer": "ipython3",
   "version": "3.10.11"
  }
 },
 "nbformat": 4,
 "nbformat_minor": 5
}
